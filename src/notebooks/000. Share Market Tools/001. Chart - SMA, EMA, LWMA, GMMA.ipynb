{
 "cells": [
  {
   "cell_type": "code",
   "execution_count": 1,
   "metadata": {},
   "outputs": [
    {
     "name": "stdout",
     "output_type": "stream",
     "text": [
      "module_path >>> /Users/493055/Desktop/dev/erai-v0.3/src <<< appended to sys path - Mandatory for the pythons files in src folder to be recognized\n"
     ]
    }
   ],
   "source": [
    "dataName = 'crudeOilFeb'\n",
    "dataFrequency='5m'\n",
    "\n",
    "import os\n",
    "import sys  \n",
    "module_path = os.path.abspath('../../'+os.path.join('.'))\n",
    "\n",
    "sys.path.append(module_path)\n",
    "\n",
    "%matplotlib notebook\n",
    "\n",
    "print(\"module_path >>> \" + module_path + \" <<< appended to sys path - Mandatory for the pythons files in src folder to be recognized\")"
   ]
  },
  {
   "cell_type": "code",
   "execution_count": 2,
   "metadata": {
    "scrolled": true
   },
   "outputs": [],
   "source": [
    "# import numpy as np\n",
    "# import pylab as pl\n",
    "# from matplotlib import collections  as mc\n",
    "\n",
    "# lines = [[(0, 1), (1, 1)], [(2, 3), (3, 3)], [(1, 2), (1, 3)]]\n",
    "# c = np.array([(1, 0, 0, 1), (0, 1, 0, 1), (0, 0, 1, 1)])\n",
    "\n",
    "# lc = mc.LineCollection(lines, colors=c, linewidths=2)\n",
    "# fig, ax = pl.subplots()\n",
    "# ax.add_collection(lc)\n",
    "# ax.autoscale()\n",
    "# ax.margins(0.1)\n",
    "\n"
   ]
  },
  {
   "cell_type": "code",
   "execution_count": 3,
   "metadata": {},
   "outputs": [],
   "source": [
    "#class matplotlib.collections.LineCollection(segments, linewidths=None, colors=None, antialiaseds=None, linestyles='solid', offsets=None, transOffset=None, norm=None, cmap=None, pickradius=5, zorder=2, facecolors='none', **kwargs)[source]"
   ]
  },
  {
   "cell_type": "code",
   "execution_count": 5,
   "metadata": {},
   "outputs": [
    {
     "data": {
      "text/plain": [
       "((6897, 28), (6897, 29), (6897, 23), (6896, 13))"
      ]
     },
     "execution_count": 5,
     "metadata": {},
     "output_type": "execute_result"
    }
   ],
   "source": [
    "from visualization import *\n",
    "\n",
    "from dataPreparation.platform import getFeatureData\n",
    "from visualization.dataAnalyticsVisualization import displayMovingAverageChart\n",
    "smaDf = getFeatureData(dataName,dataFrequency,'003_simple_moving_average.csv')\n",
    "emaDf = getFeatureData(dataName,dataFrequency,'004_exponential_moving_average.csv')\n",
    "lwmaDf = getFeatureData(dataName,dataFrequency,'005_linear_weighted_moving_average.csv')\n",
    "gmmaDf = getFeatureData(dataName,dataFrequency,'006_guppy_multiple_moving_average.csv')\n",
    "\n",
    "smaDf.shape, emaDf.shape, lwmaDf.shape, gmmaDf.shape"
   ]
  },
  {
   "cell_type": "code",
   "execution_count": 6,
   "metadata": {},
   "outputs": [],
   "source": [
    "#smaDf.head()\n",
    "cleaned_smaDf = smaDf.drop(smaDf[:3].index,axis=0)\n",
    "cleaned_emaDf = emaDf.drop(0,axis=0)\n",
    "cleaned_lwmaDf = lwmaDf.drop(lwmaDf[:11].index,axis=0)\n",
    "cleaned_gmmaDf = gmmaDf.drop(gmmaDf[:2].index,axis=0)\n"
   ]
  },
  {
   "cell_type": "code",
   "execution_count": 7,
   "metadata": {},
   "outputs": [
    {
     "data": {
      "text/html": [
       "<div>\n",
       "<style scoped>\n",
       "    .dataframe tbody tr th:only-of-type {\n",
       "        vertical-align: middle;\n",
       "    }\n",
       "\n",
       "    .dataframe tbody tr th {\n",
       "        vertical-align: top;\n",
       "    }\n",
       "\n",
       "    .dataframe thead th {\n",
       "        text-align: right;\n",
       "    }\n",
       "</style>\n",
       "<table border=\"1\" class=\"dataframe\">\n",
       "  <thead>\n",
       "    <tr style=\"text-align: right;\">\n",
       "      <th></th>\n",
       "      <th>SMA_3</th>\n",
       "      <th>SMA_5</th>\n",
       "      <th>SMA_8</th>\n",
       "      <th>SMA_10</th>\n",
       "      <th>SMA_12</th>\n",
       "      <th>SMA_13</th>\n",
       "      <th>SMA_15</th>\n",
       "      <th>SMA_20</th>\n",
       "      <th>SMA_26</th>\n",
       "      <th>SMA_30</th>\n",
       "      <th>...</th>\n",
       "      <th>SMA_100</th>\n",
       "      <th>SMA_110</th>\n",
       "      <th>SMA_120</th>\n",
       "      <th>SMA_130</th>\n",
       "      <th>SMA_140</th>\n",
       "      <th>SMA_150</th>\n",
       "      <th>SMA_160</th>\n",
       "      <th>SMA_170</th>\n",
       "      <th>SMA_180</th>\n",
       "      <th>SMA_190</th>\n",
       "    </tr>\n",
       "  </thead>\n",
       "  <tbody>\n",
       "    <tr>\n",
       "      <td>3</td>\n",
       "      <td>3788.333333</td>\n",
       "      <td>2273.0</td>\n",
       "      <td>1420.625</td>\n",
       "      <td>1136.5</td>\n",
       "      <td>947.083333</td>\n",
       "      <td>874.230769</td>\n",
       "      <td>757.666667</td>\n",
       "      <td>568.25</td>\n",
       "      <td>437.115385</td>\n",
       "      <td>378.833333</td>\n",
       "      <td>...</td>\n",
       "      <td>113.65</td>\n",
       "      <td>103.318182</td>\n",
       "      <td>94.708333</td>\n",
       "      <td>87.423077</td>\n",
       "      <td>81.178571</td>\n",
       "      <td>75.766667</td>\n",
       "      <td>71.03125</td>\n",
       "      <td>66.852941</td>\n",
       "      <td>63.138889</td>\n",
       "      <td>59.815789</td>\n",
       "    </tr>\n",
       "    <tr>\n",
       "      <td>4</td>\n",
       "      <td>3789.666667</td>\n",
       "      <td>3031.4</td>\n",
       "      <td>1894.625</td>\n",
       "      <td>1515.7</td>\n",
       "      <td>1263.083333</td>\n",
       "      <td>1165.923077</td>\n",
       "      <td>1010.466667</td>\n",
       "      <td>757.85</td>\n",
       "      <td>582.961538</td>\n",
       "      <td>505.233333</td>\n",
       "      <td>...</td>\n",
       "      <td>151.57</td>\n",
       "      <td>137.790909</td>\n",
       "      <td>126.308333</td>\n",
       "      <td>116.592308</td>\n",
       "      <td>108.264286</td>\n",
       "      <td>101.046667</td>\n",
       "      <td>94.73125</td>\n",
       "      <td>89.158824</td>\n",
       "      <td>84.205556</td>\n",
       "      <td>79.773684</td>\n",
       "    </tr>\n",
       "    <tr>\n",
       "      <td>5</td>\n",
       "      <td>3791.333333</td>\n",
       "      <td>3789.8</td>\n",
       "      <td>2368.625</td>\n",
       "      <td>1894.9</td>\n",
       "      <td>1579.083333</td>\n",
       "      <td>1457.615385</td>\n",
       "      <td>1263.266667</td>\n",
       "      <td>947.45</td>\n",
       "      <td>728.807692</td>\n",
       "      <td>631.633333</td>\n",
       "      <td>...</td>\n",
       "      <td>189.49</td>\n",
       "      <td>172.263636</td>\n",
       "      <td>157.908333</td>\n",
       "      <td>145.761538</td>\n",
       "      <td>135.350000</td>\n",
       "      <td>126.326667</td>\n",
       "      <td>118.43125</td>\n",
       "      <td>111.464706</td>\n",
       "      <td>105.272222</td>\n",
       "      <td>99.731579</td>\n",
       "    </tr>\n",
       "    <tr>\n",
       "      <td>6</td>\n",
       "      <td>3792.000000</td>\n",
       "      <td>3790.6</td>\n",
       "      <td>2842.625</td>\n",
       "      <td>2274.1</td>\n",
       "      <td>1895.083333</td>\n",
       "      <td>1749.307692</td>\n",
       "      <td>1516.066667</td>\n",
       "      <td>1137.05</td>\n",
       "      <td>874.653846</td>\n",
       "      <td>758.033333</td>\n",
       "      <td>...</td>\n",
       "      <td>227.41</td>\n",
       "      <td>206.736364</td>\n",
       "      <td>189.508333</td>\n",
       "      <td>174.930769</td>\n",
       "      <td>162.435714</td>\n",
       "      <td>151.606667</td>\n",
       "      <td>142.13125</td>\n",
       "      <td>133.770588</td>\n",
       "      <td>126.338889</td>\n",
       "      <td>119.689474</td>\n",
       "    </tr>\n",
       "    <tr>\n",
       "      <td>7</td>\n",
       "      <td>3791.333333</td>\n",
       "      <td>3791.2</td>\n",
       "      <td>3316.375</td>\n",
       "      <td>2653.1</td>\n",
       "      <td>2210.916667</td>\n",
       "      <td>2040.846154</td>\n",
       "      <td>1768.733333</td>\n",
       "      <td>1326.55</td>\n",
       "      <td>1020.423077</td>\n",
       "      <td>884.366667</td>\n",
       "      <td>...</td>\n",
       "      <td>265.31</td>\n",
       "      <td>241.190909</td>\n",
       "      <td>221.091667</td>\n",
       "      <td>204.084615</td>\n",
       "      <td>189.507143</td>\n",
       "      <td>176.873333</td>\n",
       "      <td>165.81875</td>\n",
       "      <td>156.064706</td>\n",
       "      <td>147.394444</td>\n",
       "      <td>139.636842</td>\n",
       "    </tr>\n",
       "  </tbody>\n",
       "</table>\n",
       "<p>5 rows × 28 columns</p>\n",
       "</div>"
      ],
      "text/plain": [
       "         SMA_3   SMA_5     SMA_8  SMA_10       SMA_12       SMA_13  \\\n",
       "3  3788.333333  2273.0  1420.625  1136.5   947.083333   874.230769   \n",
       "4  3789.666667  3031.4  1894.625  1515.7  1263.083333  1165.923077   \n",
       "5  3791.333333  3789.8  2368.625  1894.9  1579.083333  1457.615385   \n",
       "6  3792.000000  3790.6  2842.625  2274.1  1895.083333  1749.307692   \n",
       "7  3791.333333  3791.2  3316.375  2653.1  2210.916667  2040.846154   \n",
       "\n",
       "        SMA_15   SMA_20       SMA_26      SMA_30  ...  SMA_100     SMA_110  \\\n",
       "3   757.666667   568.25   437.115385  378.833333  ...   113.65  103.318182   \n",
       "4  1010.466667   757.85   582.961538  505.233333  ...   151.57  137.790909   \n",
       "5  1263.266667   947.45   728.807692  631.633333  ...   189.49  172.263636   \n",
       "6  1516.066667  1137.05   874.653846  758.033333  ...   227.41  206.736364   \n",
       "7  1768.733333  1326.55  1020.423077  884.366667  ...   265.31  241.190909   \n",
       "\n",
       "      SMA_120     SMA_130     SMA_140     SMA_150    SMA_160     SMA_170  \\\n",
       "3   94.708333   87.423077   81.178571   75.766667   71.03125   66.852941   \n",
       "4  126.308333  116.592308  108.264286  101.046667   94.73125   89.158824   \n",
       "5  157.908333  145.761538  135.350000  126.326667  118.43125  111.464706   \n",
       "6  189.508333  174.930769  162.435714  151.606667  142.13125  133.770588   \n",
       "7  221.091667  204.084615  189.507143  176.873333  165.81875  156.064706   \n",
       "\n",
       "      SMA_180     SMA_190  \n",
       "3   63.138889   59.815789  \n",
       "4   84.205556   79.773684  \n",
       "5  105.272222   99.731579  \n",
       "6  126.338889  119.689474  \n",
       "7  147.394444  139.636842  \n",
       "\n",
       "[5 rows x 28 columns]"
      ]
     },
     "execution_count": 7,
     "metadata": {},
     "output_type": "execute_result"
    }
   ],
   "source": [
    "cleaned_smaDf.head()"
   ]
  },
  {
   "cell_type": "code",
   "execution_count": null,
   "metadata": {
    "scrolled": false
   },
   "outputs": [],
   "source": []
  },
  {
   "cell_type": "code",
   "execution_count": 8,
   "metadata": {
    "scrolled": false
   },
   "outputs": [
    {
     "name": "stderr",
     "output_type": "stream",
     "text": [
      "/Users/493055/Desktop/dev/erai-v0.3/src/visualization/dataAnalyticsVisualization.py:37: SettingWithCopyWarning: \n",
      "A value is trying to be set on a copy of a slice from a DataFrame.\n",
      "Try using .loc[row_indexer,col_indexer] = value instead\n",
      "\n",
      "See the caveats in the documentation: http://pandas.pydata.org/pandas-docs/stable/user_guide/indexing.html#returning-a-view-versus-a-copy\n",
      "  ma_chart_df['curr_index'] = ma_chart_df.index\n"
     ]
    },
    {
     "name": "stdout",
     "output_type": "stream",
     "text": [
      "Error executing method >>> \n",
      "Traceback (most recent call last):\n",
      "  File \"/Users/493055/Desktop/dev/erai-v0.3/src/visualization/dataAnalyticsVisualization.py\", line 89, in displayMovingAverageChart\n",
      "    fig, ax = pl.subplots()\n",
      "NameError: name 'pl' is not defined\n",
      "\n",
      "Traceback (most recent call last):\n",
      "  File \"/Users/493055/Desktop/dev/erai-v0.3/src/visualization/dataAnalyticsVisualization.py\", line 89, in displayMovingAverageChart\n",
      "NameError: [<FrameSummary file /Users/493055/Desktop/dev/erai-v0.3/src/visualization/dataAnalyticsVisualization.py, line 89 in displayMovingAverageChart>]\n",
      "\n"
     ]
    },
    {
     "data": {
      "text/plain": [
       "False"
      ]
     },
     "execution_count": 8,
     "metadata": {},
     "output_type": "execute_result"
    }
   ],
   "source": [
    "displayMovingAverageChart(cleaned_smaDf)"
   ]
  },
  {
   "cell_type": "code",
   "execution_count": null,
   "metadata": {},
   "outputs": [],
   "source": [
    "displayMovingAverageChart(cleaned_emaDf)"
   ]
  },
  {
   "cell_type": "code",
   "execution_count": null,
   "metadata": {},
   "outputs": [],
   "source": [
    "displayMovingAverageChart(cleaned_lwmaDf)"
   ]
  },
  {
   "cell_type": "code",
   "execution_count": null,
   "metadata": {},
   "outputs": [],
   "source": [
    "displayMovingAverageChart(cleaned_gmmaDf)"
   ]
  },
  {
   "cell_type": "code",
   "execution_count": null,
   "metadata": {},
   "outputs": [],
   "source": []
  }
 ],
 "metadata": {
  "kernelspec": {
   "display_name": "Python 3",
   "language": "python",
   "name": "python3"
  },
  "language_info": {
   "codemirror_mode": {
    "name": "ipython",
    "version": 3
   },
   "file_extension": ".py",
   "mimetype": "text/x-python",
   "name": "python",
   "nbconvert_exporter": "python",
   "pygments_lexer": "ipython3",
   "version": "3.7.4"
  }
 },
 "nbformat": 4,
 "nbformat_minor": 2
}
