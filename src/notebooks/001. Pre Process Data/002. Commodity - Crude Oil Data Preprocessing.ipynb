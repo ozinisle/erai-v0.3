{
 "cells": [
  {
   "cell_type": "markdown",
   "metadata": {
    "scrolled": true
   },
   "source": [
    "# Challenge\n",
    "\n",
    "Commodity stock corresponding to a particular month expires at a particular date on the same month or the very next month For example, Crude Oil Stock for a particular month expires on 18th of the next calendar month or the last working day before the 18th of the next calendar day if it falls on a stock market holiday\n",
    "\n",
    "Hence a CrudeOil Stock of March shall expire on 18th of April for a given year or on a working day prior to 18th if 18th is a holiay\n",
    "\n",
    "Typically one can buy a particular month's stock way a head of time. Say you can buy a Crude oil stock corresponding to the month of june on Jan which is 6 months a head\n",
    "\n",
    "So, accumulating data a head of time for machine learning/analysis is pretty complex and confusing.\n",
    "\n",
    "I have deviced the following way to over come this complexity."
   ]
  },
  {
   "cell_type": "markdown",
   "metadata": {},
   "source": [
    "# Solution\n",
    "\n",
    "## 1. Download Source data - Manual Process\n",
    "- Download data from decided known source and save as such as json file in the '**dataName**/data/raw/**frequency**' folder\n",
    "- every time you save a new fragment of data, make sure that you are saving the file with names which are always in ascending order alphabetically. For example, save new files with the name confining to the series say '01.json,02.json,03.json ... and so on..' or like 'aa.json, ab.json, aca.json,acab.json,ad.json and so on...' \n",
    "- Please try to follow an ascending alphabetic file pattern for every for every new file name to AVOID issues.\n",
    "- Should still work with casual file names as well\n",
    "- Download and save data this way as frequent as possible for as many products as required\n",
    "\n",
    "## 2. Configure Input Cell - Manual Process\n",
    "- Provide the following inputs namely\n",
    "    - dataName\n",
    "    - dataFrequency\n",
    "    - stockExpiresOnDate\n",
    "    \n",
    "For crudeOil a typical example would be\n",
    "\n",
    "> dataName = 'crudeOil_India' <br>\n",
    "  dataFrequency = '5m'<br>\n",
    "  stockExpiresOnDate = 18\n",
    "\n",
    "Do not modify any other code present in the input cell and change only the other input parameter named 'noteBookRelativeDepthFromRoot' only if necessary\n",
    "\n",
    "This will take care of the initializing the Jupyter Notebook environment to perform the desired data manipulations"
   ]
  },
  {
   "cell_type": "markdown",
   "metadata": {},
   "source": [
    "## 3. Create  !!dataName!!_HistoricalData.csv - Manual ( Semi Automatic) \n",
    "> (eg crudeOil_India_HistoricalData.csv)<br>\n",
    "(One time only) <br>\n",
    "**NOTE**: You may **NOT have to repeat this step** if it has been done in the past\n",
    "\n",
    "- a file with frozen historical market data for each commodity has to be saved in the following folder location:\n",
    "    - '**!!dataName!!**/data/raw/**!!dataFrequency!!**/frozenHistoricalData' \n",
    "- gather as much data as possible for the current running month's stock\n",
    "- define the data as \"**dataName**H\n",
    "\", for example \"crudeOilHistoricalData.csv\". Freeze this data.\n",
    "- data can only be added to this file but never any entry should be modified\n",
    "\n",
    "## 4. Create !!dataName!!_!!month!!~.csv - Manual ( Semi Automatic)\n",
    "> (eg crudeOil_Jun.csv) \n",
    "\n",
    "- gather current month data till 18th of the next calendar month as much as possible\n",
    "- remove all entries in the current  month data for which historical data is already present in say 'crudeOilHistoricalData.csv)\n",
    "- add the remaining data in the current month to the historical data and call it as say 'crudeOil_mar.csv'\n",
    "\n",
    "## 5. Update and Archive Expiried Commodity Stock Data - Manual ( Semi Automatic)\n",
    "- as soon as stock for the current month expires, update the historical data with the existing data and archive the current month based file\n",
    "\n",
    "## Update crudeOilHistoricalData.csv every cycle and repeat previous step\n",
    "\n",
    "- When a new month's stock starts every 19th of the month archive the 'crudeOilHistoricalData.csv' file\n",
    "- Rename 'crudeOil_month.csv' into 'crudeOilHistoricalData.csv'"
   ]
  },
  {
   "cell_type": "code",
   "execution_count": 3,
   "metadata": {
    "scrolled": false
   },
   "outputs": [
    {
     "name": "stdout",
     "output_type": "stream",
     "text": [
      "module_path >>> /Users/493055/Desktop/dev/erai-v0.3/src <<< appended to sys path - Mandatory for the pythons files in src folder to be recognized\n",
      " Preprocessing raw commodity data\n",
      "looping through all the files to create input data\n",
      "reading input file >>> /Users/493055/Desktop/dev/erai-v0.3/data/crudeOil_India/raw/5m/01.json ...\n",
      "File read - SUCCESS\n",
      "reading input file >>> /Users/493055/Desktop/dev/erai-v0.3/data/crudeOil_India/raw/5m/02.json ...\n",
      "File read - SUCCESS\n",
      "reading input file >>> /Users/493055/Desktop/dev/erai-v0.3/data/crudeOil_India/raw/5m/03.json ...\n",
      "File read - SUCCESS\n",
      " checking if folder existis >>>/Users/493055/Desktop/dev/erai-v0.3/data/crudeOil_India/raw/5m/frozenHistoricalData\n",
      "Debug >>> start >>> isFileExists method\n",
      "Debug >>> isFileExists >>> projectRootFolderPath = /Users/493055/Desktop/dev/erai-v0.3\n",
      "Debug >>> isFileExists >>> valueError\n",
      "DEBUG >>> isFileExists >>> rootFolderPathIndex = -1\n",
      "Debug >>> check if file path exists >>> /Users/493055/Desktop/dev/erai-v0.3/data/crudeOil_India/raw/5m/frozenHistoricalData/crudeOil_India_HistoricalData.csv\n",
      "Debug >>> end >>> isFileExists method\n",
      "historical record exists\n",
      "cutoffDateFromPenultimateValueInHistoricalData = 2020-02-28T14:05:00+0530\n",
      "Debug >>> newValuesDf droped date column\n",
      "historical record data updated\n",
      " debug >>> archiveFileInRawDataFolder >>> into method\n",
      " checking if folder existis >>>/Users/493055/Desktop/dev/erai-v0.3/data/crudeOil_India/raw/5m/archive\n",
      " checking if folder existis >>>/Users/493055/Desktop/dev/erai-v0.3/data/crudeOil_India/raw/5m/archive/archive_1583242416.5826309\n",
      "/Users/493055/Desktop/dev/erai-v0.3/data/crudeOil_India/raw/5m/archive/archive_1583242416.5826309 >>> Folder created\n",
      " debug >>> archiveFileInRawDataFolder >>> about to loop through filelist\n",
      " debug >>> archiveFileInRawDataFolder >>> attempting to copy file >>> /Users/493055/Desktop/dev/erai-v0.3/data/crudeOil_India/raw/5m/01.json\n",
      "to location >>> /Users/493055/Desktop/dev/erai-v0.3/data/crudeOil_India/raw/5m/archive/archive_1583242416.5826309/01.json\n",
      "File deleted >>> /Users/493055/Desktop/dev/erai-v0.3/data/crudeOil_India/raw/5m/01.json\n",
      " debug >>> archiveFileInRawDataFolder >>> attempting to copy file >>> /Users/493055/Desktop/dev/erai-v0.3/data/crudeOil_India/raw/5m/02.json\n",
      "to location >>> /Users/493055/Desktop/dev/erai-v0.3/data/crudeOil_India/raw/5m/archive/archive_1583242416.5826309/02.json\n",
      "File deleted >>> /Users/493055/Desktop/dev/erai-v0.3/data/crudeOil_India/raw/5m/02.json\n",
      " debug >>> archiveFileInRawDataFolder >>> attempting to copy file >>> /Users/493055/Desktop/dev/erai-v0.3/data/crudeOil_India/raw/5m/03.json\n",
      "to location >>> /Users/493055/Desktop/dev/erai-v0.3/data/crudeOil_India/raw/5m/archive/archive_1583242416.5826309/03.json\n",
      "File deleted >>> /Users/493055/Desktop/dev/erai-v0.3/data/crudeOil_India/raw/5m/03.json\n",
      " debug >>> archiveFileInRawDataFolder >>> completed method\n",
      " debug >>> archiveFileInRawDataFolder >>> returning value >>> True\n",
      "debug >>> all files archived successfully\n"
     ]
    }
   ],
   "source": [
    "dataName = 'crudeOil_India'\n",
    "dataFrequency='5m'\n",
    "stockExpiresOnDate = 18\n",
    "\n",
    "# DO NOT MODIFY THE FOLLOWING UNLESS THE NOTEBOOK'S LOCATION HAS CHANGED AND IS NECESSARY\n",
    "noteBookRelativeDepthFromRoot = '../../'\n",
    "\n",
    "import os\n",
    "import sys  \n",
    "module_path = os.path.abspath(noteBookRelativeDepthFromRoot + os.path.join('.'))\n",
    "\n",
    "sys.path.append(module_path)\n",
    "\n",
    "print(\"module_path >>> \" + module_path + \" <<< appended to sys path - Mandatory for the pythons files in src folder to be recognized\")\n",
    "\n",
    "\n",
    "from dataPreprocessing import *\n",
    "from dataPreprocessing.preProcessData import preProcessCommodityData\n",
    "preProcessedInfo = preProcessCommodityData(dataName,dataFrequency,stockExpiresOnDate)\n",
    "\n"
   ]
  },
  {
   "cell_type": "code",
   "execution_count": null,
   "metadata": {
    "scrolled": true
   },
   "outputs": [],
   "source": [
    "\n"
   ]
  },
  {
   "cell_type": "code",
   "execution_count": null,
   "metadata": {
    "scrolled": false
   },
   "outputs": [],
   "source": []
  },
  {
   "cell_type": "code",
   "execution_count": null,
   "metadata": {},
   "outputs": [],
   "source": []
  },
  {
   "cell_type": "code",
   "execution_count": null,
   "metadata": {},
   "outputs": [],
   "source": []
  },
  {
   "cell_type": "code",
   "execution_count": null,
   "metadata": {
    "scrolled": true
   },
   "outputs": [],
   "source": []
  },
  {
   "cell_type": "code",
   "execution_count": null,
   "metadata": {},
   "outputs": [],
   "source": []
  },
  {
   "cell_type": "code",
   "execution_count": null,
   "metadata": {
    "scrolled": true
   },
   "outputs": [],
   "source": []
  },
  {
   "cell_type": "code",
   "execution_count": null,
   "metadata": {},
   "outputs": [],
   "source": []
  },
  {
   "cell_type": "code",
   "execution_count": null,
   "metadata": {
    "scrolled": true
   },
   "outputs": [],
   "source": []
  },
  {
   "cell_type": "code",
   "execution_count": null,
   "metadata": {
    "scrolled": true
   },
   "outputs": [],
   "source": []
  },
  {
   "cell_type": "code",
   "execution_count": null,
   "metadata": {},
   "outputs": [],
   "source": []
  },
  {
   "cell_type": "code",
   "execution_count": null,
   "metadata": {
    "scrolled": true
   },
   "outputs": [],
   "source": []
  },
  {
   "cell_type": "code",
   "execution_count": null,
   "metadata": {
    "scrolled": false
   },
   "outputs": [],
   "source": []
  },
  {
   "cell_type": "code",
   "execution_count": null,
   "metadata": {},
   "outputs": [],
   "source": []
  },
  {
   "cell_type": "code",
   "execution_count": null,
   "metadata": {},
   "outputs": [],
   "source": []
  },
  {
   "cell_type": "code",
   "execution_count": null,
   "metadata": {},
   "outputs": [],
   "source": []
  },
  {
   "cell_type": "code",
   "execution_count": null,
   "metadata": {},
   "outputs": [],
   "source": []
  },
  {
   "cell_type": "code",
   "execution_count": null,
   "metadata": {},
   "outputs": [],
   "source": []
  },
  {
   "cell_type": "code",
   "execution_count": null,
   "metadata": {},
   "outputs": [],
   "source": []
  }
 ],
 "metadata": {
  "kernelspec": {
   "display_name": "Python 3",
   "language": "python",
   "name": "python3"
  },
  "language_info": {
   "codemirror_mode": {
    "name": "ipython",
    "version": 3
   },
   "file_extension": ".py",
   "mimetype": "text/x-python",
   "name": "python",
   "nbconvert_exporter": "python",
   "pygments_lexer": "ipython3",
   "version": "3.7.4"
  }
 },
 "nbformat": 4,
 "nbformat_minor": 2
}
