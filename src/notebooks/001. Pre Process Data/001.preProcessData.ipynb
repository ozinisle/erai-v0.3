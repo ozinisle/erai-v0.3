{
 "cells": [
  {
   "cell_type": "code",
   "execution_count": 1,
   "metadata": {
    "scrolled": true
   },
   "outputs": [
    {
     "name": "stdout",
     "output_type": "stream",
     "text": [
      "module_path >>> /Users/493055/Desktop/dev/erai-v0.3/src <<< appended to sys path - Mandatory for the pythons files in src folder to be recognized\n"
     ]
    }
   ],
   "source": [
    "dataName = 'crudeOilFeb'\n",
    "dataFrequency='5m'\n",
    "\n",
    "import os\n",
    "import sys  \n",
    "module_path = os.path.abspath('../'+os.path.join('.'))\n",
    "\n",
    "sys.path.append(module_path)\n",
    "\n",
    "print(\"module_path >>> \" + module_path + \" <<< appended to sys path - Mandatory for the pythons files in src folder to be recognized\")\n",
    "\n"
   ]
  },
  {
   "cell_type": "code",
   "execution_count": 2,
   "metadata": {
    "scrolled": true
   },
   "outputs": [
    {
     "name": "stdout",
     "output_type": "stream",
     "text": [
      " data pre-processing >> imported dependencies\n",
      "looping through all the files to create input data\n",
      "reading input file >>> /Users/493055/Desktop/dev/erai-v0.3/data/crudeOilFeb/raw/5m/01.json ...\n",
      "File read - SUCCESS\n",
      "reading input file >>> /Users/493055/Desktop/dev/erai-v0.3/data/crudeOilFeb/raw/5m/06.json ...\n",
      "File read - SUCCESS\n",
      "reading input file >>> /Users/493055/Desktop/dev/erai-v0.3/data/crudeOilFeb/raw/5m/07.json ...\n",
      "File read - SUCCESS\n",
      "reading input file >>> /Users/493055/Desktop/dev/erai-v0.3/data/crudeOilFeb/raw/5m/04.json ...\n",
      "File read - SUCCESS\n",
      "reading input file >>> /Users/493055/Desktop/dev/erai-v0.3/data/crudeOilFeb/raw/5m/08.json ...\n",
      "File read - SUCCESS\n",
      "reading input file >>> /Users/493055/Desktop/dev/erai-v0.3/data/crudeOilFeb/raw/5m/09.json ...\n",
      "File read - SUCCESS\n",
      "reading input file >>> /Users/493055/Desktop/dev/erai-v0.3/data/crudeOilFeb/raw/5m/05.json ...\n",
      "File read - SUCCESS\n",
      "reading input file >>> /Users/493055/Desktop/dev/erai-v0.3/data/crudeOilFeb/raw/5m/02.json ...\n",
      "File read - SUCCESS\n",
      "reading input file >>> /Users/493055/Desktop/dev/erai-v0.3/data/crudeOilFeb/raw/5m/03.json ...\n",
      "File read - SUCCESS\n",
      "added prior_holidays feature in pre-processed data\n",
      "added following_holidays feature in pre-processed data\n",
      "Attempting to create folder if it does not exist >>>/Users/493055/Desktop/dev/erai-v0.3/data/crudeOilFeb/processed/5m\n",
      " checking if folder existis >>>/Users/493055/Desktop/dev/erai-v0.3/data/crudeOilFeb/processed/5m\n",
      "Attempting to create folder if it does not exist >>>/Users/493055/Desktop/dev/erai-v0.3/data/crudeOilFeb/processed/5m/preProcessedData\n",
      " checking if folder existis >>>/Users/493055/Desktop/dev/erai-v0.3/data/crudeOilFeb/processed/5m/preProcessedData\n",
      "Attempting to create/update file >>>/Users/493055/Desktop/dev/erai-v0.3/data/crudeOilFeb/processed/5m/preProcessedData/processedRawData.csv\n",
      "created raw easy to use csv data to be used for preparing training data in the location  >>>/Users/493055/Desktop/dev/erai-v0.3/data/crudeOilFeb/processed/5m/preProcessedData/processedRawData.csv\n",
      " creating/updating config file\n",
      " retrieving values configured in >>> /Users/493055/Desktop/dev/erai-v0.3/src/config/config.json\n",
      " updating config file >>> /Users/493055/Desktop/dev/erai-v0.3/src/config/config.json\n",
      " successfully updated config file >>> (try block) /Users/493055/Desktop/dev/erai-v0.3/src/config/config.json with data >>>{\"crudeOilFeb\": {\"5m\": {\"preProcessedDataFilePath\": \"/data/crudeOilFeb/processed/5m/preProcessedData/processedRawData.csv\"}}}\n",
      "done\n"
     ]
    }
   ],
   "source": [
    "from dataPreprocessing import *\n",
    "\n",
    "from dataPreprocessing.preProcessData import preProcessData\n",
    "\n",
    "preProcessData(dataName,dataFrequency)\n",
    "\n",
    "print('done')"
   ]
  },
  {
   "cell_type": "code",
   "execution_count": 3,
   "metadata": {
    "scrolled": false
   },
   "outputs": [
    {
     "name": "stdout",
     "output_type": "stream",
     "text": [
      "projectRootFolderPath >>> /Users/493055/Desktop/dev/erai-v0.3\n",
      " retrieving values configured in >>> /Users/493055/Desktop/dev/erai-v0.3/src/config/config.json\n"
     ]
    },
    {
     "data": {
      "text/html": [
       "<div>\n",
       "<style scoped>\n",
       "    .dataframe tbody tr th:only-of-type {\n",
       "        vertical-align: middle;\n",
       "    }\n",
       "\n",
       "    .dataframe tbody tr th {\n",
       "        vertical-align: top;\n",
       "    }\n",
       "\n",
       "    .dataframe thead th {\n",
       "        text-align: right;\n",
       "    }\n",
       "</style>\n",
       "<table border=\"1\" class=\"dataframe\">\n",
       "  <thead>\n",
       "    <tr style=\"text-align: right;\">\n",
       "      <th></th>\n",
       "      <th>open</th>\n",
       "      <th>high</th>\n",
       "      <th>low</th>\n",
       "      <th>close</th>\n",
       "      <th>quantity</th>\n",
       "      <th>dont-know</th>\n",
       "      <th>date-timeYear</th>\n",
       "      <th>date-timeMonth</th>\n",
       "      <th>date-timeWeek</th>\n",
       "      <th>date-timeDay</th>\n",
       "      <th>date-timeDayofweek</th>\n",
       "      <th>date-timeDayofyear</th>\n",
       "      <th>date-timeIs_month_end</th>\n",
       "      <th>date-timeIs_month_start</th>\n",
       "      <th>date-timeIs_quarter_end</th>\n",
       "      <th>date-timeIs_quarter_start</th>\n",
       "      <th>date-timeIs_year_end</th>\n",
       "      <th>date-timeIs_year_start</th>\n",
       "      <th>date-timeElapsed</th>\n",
       "      <th>prior_holidays</th>\n",
       "      <th>following_holidays</th>\n",
       "    </tr>\n",
       "  </thead>\n",
       "  <tbody>\n",
       "    <tr>\n",
       "      <td>8259</td>\n",
       "      <td>3690</td>\n",
       "      <td>3691</td>\n",
       "      <td>3687</td>\n",
       "      <td>3689</td>\n",
       "      <td>1642</td>\n",
       "      <td>24195</td>\n",
       "      <td>2020</td>\n",
       "      <td>2</td>\n",
       "      <td>8</td>\n",
       "      <td>18</td>\n",
       "      <td>1</td>\n",
       "      <td>49</td>\n",
       "      <td>False</td>\n",
       "      <td>False</td>\n",
       "      <td>False</td>\n",
       "      <td>False</td>\n",
       "      <td>False</td>\n",
       "      <td>False</td>\n",
       "      <td>1582010100</td>\n",
       "      <td>0</td>\n",
       "      <td>0</td>\n",
       "    </tr>\n",
       "    <tr>\n",
       "      <td>8260</td>\n",
       "      <td>3689</td>\n",
       "      <td>3690</td>\n",
       "      <td>3687</td>\n",
       "      <td>3689</td>\n",
       "      <td>628</td>\n",
       "      <td>24287</td>\n",
       "      <td>2020</td>\n",
       "      <td>2</td>\n",
       "      <td>8</td>\n",
       "      <td>18</td>\n",
       "      <td>1</td>\n",
       "      <td>49</td>\n",
       "      <td>False</td>\n",
       "      <td>False</td>\n",
       "      <td>False</td>\n",
       "      <td>False</td>\n",
       "      <td>False</td>\n",
       "      <td>False</td>\n",
       "      <td>1582010400</td>\n",
       "      <td>0</td>\n",
       "      <td>0</td>\n",
       "    </tr>\n",
       "    <tr>\n",
       "      <td>8261</td>\n",
       "      <td>3689</td>\n",
       "      <td>3689</td>\n",
       "      <td>3686</td>\n",
       "      <td>3686</td>\n",
       "      <td>1271</td>\n",
       "      <td>24569</td>\n",
       "      <td>2020</td>\n",
       "      <td>2</td>\n",
       "      <td>8</td>\n",
       "      <td>18</td>\n",
       "      <td>1</td>\n",
       "      <td>49</td>\n",
       "      <td>False</td>\n",
       "      <td>False</td>\n",
       "      <td>False</td>\n",
       "      <td>False</td>\n",
       "      <td>False</td>\n",
       "      <td>False</td>\n",
       "      <td>1582010700</td>\n",
       "      <td>0</td>\n",
       "      <td>0</td>\n",
       "    </tr>\n",
       "    <tr>\n",
       "      <td>8262</td>\n",
       "      <td>3686</td>\n",
       "      <td>3687</td>\n",
       "      <td>3681</td>\n",
       "      <td>3682</td>\n",
       "      <td>3142</td>\n",
       "      <td>24551</td>\n",
       "      <td>2020</td>\n",
       "      <td>2</td>\n",
       "      <td>8</td>\n",
       "      <td>18</td>\n",
       "      <td>1</td>\n",
       "      <td>49</td>\n",
       "      <td>False</td>\n",
       "      <td>False</td>\n",
       "      <td>False</td>\n",
       "      <td>False</td>\n",
       "      <td>False</td>\n",
       "      <td>False</td>\n",
       "      <td>1582011000</td>\n",
       "      <td>0</td>\n",
       "      <td>0</td>\n",
       "    </tr>\n",
       "    <tr>\n",
       "      <td>8263</td>\n",
       "      <td>3682</td>\n",
       "      <td>3682</td>\n",
       "      <td>3679</td>\n",
       "      <td>3680</td>\n",
       "      <td>2589</td>\n",
       "      <td>24425</td>\n",
       "      <td>2020</td>\n",
       "      <td>2</td>\n",
       "      <td>8</td>\n",
       "      <td>18</td>\n",
       "      <td>1</td>\n",
       "      <td>49</td>\n",
       "      <td>False</td>\n",
       "      <td>False</td>\n",
       "      <td>False</td>\n",
       "      <td>False</td>\n",
       "      <td>False</td>\n",
       "      <td>False</td>\n",
       "      <td>1582011300</td>\n",
       "      <td>0</td>\n",
       "      <td>0</td>\n",
       "    </tr>\n",
       "  </tbody>\n",
       "</table>\n",
       "</div>"
      ],
      "text/plain": [
       "      open  high   low  close  quantity  dont-know  date-timeYear  \\\n",
       "8259  3690  3691  3687   3689      1642      24195           2020   \n",
       "8260  3689  3690  3687   3689       628      24287           2020   \n",
       "8261  3689  3689  3686   3686      1271      24569           2020   \n",
       "8262  3686  3687  3681   3682      3142      24551           2020   \n",
       "8263  3682  3682  3679   3680      2589      24425           2020   \n",
       "\n",
       "      date-timeMonth  date-timeWeek  date-timeDay  date-timeDayofweek  \\\n",
       "8259               2              8            18                   1   \n",
       "8260               2              8            18                   1   \n",
       "8261               2              8            18                   1   \n",
       "8262               2              8            18                   1   \n",
       "8263               2              8            18                   1   \n",
       "\n",
       "      date-timeDayofyear  date-timeIs_month_end  date-timeIs_month_start  \\\n",
       "8259                  49                  False                    False   \n",
       "8260                  49                  False                    False   \n",
       "8261                  49                  False                    False   \n",
       "8262                  49                  False                    False   \n",
       "8263                  49                  False                    False   \n",
       "\n",
       "      date-timeIs_quarter_end  date-timeIs_quarter_start  \\\n",
       "8259                    False                      False   \n",
       "8260                    False                      False   \n",
       "8261                    False                      False   \n",
       "8262                    False                      False   \n",
       "8263                    False                      False   \n",
       "\n",
       "      date-timeIs_year_end  date-timeIs_year_start  date-timeElapsed  \\\n",
       "8259                 False                   False        1582010100   \n",
       "8260                 False                   False        1582010400   \n",
       "8261                 False                   False        1582010700   \n",
       "8262                 False                   False        1582011000   \n",
       "8263                 False                   False        1582011300   \n",
       "\n",
       "      prior_holidays  following_holidays  \n",
       "8259               0                   0  \n",
       "8260               0                   0  \n",
       "8261               0                   0  \n",
       "8262               0                   0  \n",
       "8263               0                   0  "
      ]
     },
     "execution_count": 3,
     "metadata": {},
     "output_type": "execute_result"
    }
   ],
   "source": [
    "from dataPreprocessing.preProcessData import getPreprocessedData\n",
    "preProcessedDf=getPreprocessedData(dataName,dataFrequency)\n",
    "preProcessedDf.tail()"
   ]
  },
  {
   "cell_type": "code",
   "execution_count": null,
   "metadata": {},
   "outputs": [],
   "source": []
  },
  {
   "cell_type": "code",
   "execution_count": null,
   "metadata": {},
   "outputs": [],
   "source": []
  },
  {
   "cell_type": "code",
   "execution_count": null,
   "metadata": {},
   "outputs": [],
   "source": []
  },
  {
   "cell_type": "code",
   "execution_count": null,
   "metadata": {
    "scrolled": true
   },
   "outputs": [],
   "source": []
  },
  {
   "cell_type": "code",
   "execution_count": null,
   "metadata": {},
   "outputs": [],
   "source": []
  },
  {
   "cell_type": "code",
   "execution_count": null,
   "metadata": {
    "scrolled": true
   },
   "outputs": [],
   "source": []
  },
  {
   "cell_type": "code",
   "execution_count": null,
   "metadata": {},
   "outputs": [],
   "source": []
  },
  {
   "cell_type": "code",
   "execution_count": null,
   "metadata": {
    "scrolled": true
   },
   "outputs": [],
   "source": []
  },
  {
   "cell_type": "code",
   "execution_count": null,
   "metadata": {
    "scrolled": false
   },
   "outputs": [],
   "source": []
  },
  {
   "cell_type": "code",
   "execution_count": null,
   "metadata": {},
   "outputs": [],
   "source": []
  },
  {
   "cell_type": "code",
   "execution_count": null,
   "metadata": {},
   "outputs": [],
   "source": []
  },
  {
   "cell_type": "code",
   "execution_count": null,
   "metadata": {},
   "outputs": [],
   "source": []
  },
  {
   "cell_type": "code",
   "execution_count": null,
   "metadata": {},
   "outputs": [],
   "source": []
  }
 ],
 "metadata": {
  "kernelspec": {
   "display_name": "Python 3",
   "language": "python",
   "name": "python3"
  },
  "language_info": {
   "codemirror_mode": {
    "name": "ipython",
    "version": 3
   },
   "file_extension": ".py",
   "mimetype": "text/x-python",
   "name": "python",
   "nbconvert_exporter": "python",
   "pygments_lexer": "ipython3",
   "version": "3.7.4"
  }
 },
 "nbformat": 4,
 "nbformat_minor": 2
}
