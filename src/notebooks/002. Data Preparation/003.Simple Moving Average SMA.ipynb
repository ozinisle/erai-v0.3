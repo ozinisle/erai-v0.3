{
 "cells": [
  {
   "cell_type": "code",
   "execution_count": 1,
   "metadata": {},
   "outputs": [
    {
     "name": "stdout",
     "output_type": "stream",
     "text": [
      "module_path >>> /Users/493055/Desktop/dev/erai-v0.3/src <<< appended to sys path - Mandatory for the pythons files in src folder to be recognized\n"
     ]
    }
   ],
   "source": [
    "dataName = 'crudeOilFeb'\n",
    "dataFrequency='5m'\n",
    "\n",
    "import os\n",
    "import sys  \n",
    "module_path = os.path.abspath('../../'+os.path.join('.'))\n",
    "\n",
    "sys.path.append(module_path)\n",
    "\n",
    "print(\"module_path >>> \" + module_path + \" <<< appended to sys path - Mandatory for the pythons files in src folder to be recognized\")\n",
    "\n"
   ]
  },
  {
   "cell_type": "markdown",
   "metadata": {},
   "source": [
    "# Analytical Significance\n",
    "\n",
    "- Used to identify current price trends and the potential for a change in an established trend. \n",
    "\n",
    "- If a shorter-term simple moving average is above a longer-term average, an uptrend is expected. \n",
    "\n",
    "- On the other hand, a long-term average above a shorter-term average signals a downward movement in the trend.\n",
    "\n",
    "\n",
    "- <b><u>Bearish Signal :: Death Cross</u></b>\n",
    "\n",
    "    - Occurs when the 50-day simple moving average crosses below the 200-day moving average. This is considered a bearish signal, that further losses are in store\n",
    "    \n",
    "    \n",
    "- <b><u>Bullish Signal :: Golden Cross</u></b>\n",
    "\n",
    "    - Occurs when a short-term moving average breaks above a long-term moving average. Reinforced by high trading volumes, this can signal further gains are in store\n",
    "\n"
   ]
  },
  {
   "cell_type": "markdown",
   "metadata": {},
   "source": [
    "# What Is a Simple Moving Average (SMA)?\n",
    "\n",
    "A simple moving average (SMA) is an arithmetic moving average calculated by adding recent \n",
    "closing prices and then dividing that by the number of time periods in the calculation average.\n",
    "\n",
    "A simple, or arithmetic, moving average that is calculated by adding the closing price of the security \n",
    "for a number of time periods and then dividing this total by that same number of periods. \n",
    "\n",
    "Short-term averages respond quickly to changes in the price of the underlying, \n",
    "while long-term averages are slow to react.\n",
    "\n",
    "<img src='https://www.investopedia.com/thmb/l-ky83gugyn-46tqvJezaZsAte4=/1543x0/filters:no_upscale():max_bytes(150000):strip_icc():format(webp)/SMA-5c535f2846e0fb00012b9825.png'/>\n"
   ]
  },
  {
   "cell_type": "markdown",
   "metadata": {},
   "source": [
    "## KEY TAKEAWAYS\n",
    "- The SMA is a technical indicator for determining if an asset price will continue or reverse a bull or bear trend.\n",
    "- The SMA is calculated as the arithmetic average of an asset's price over some period.\n",
    "- The SMA can be enhanced as an exponential moving average (EMA) that more heavily weights recent price action.\n",
    "\n",
    "The Formula For SMA Is\n",
    "\\begin{aligned} &\\text{SMA}=\\dfrac{A_1 + A_2 + ... + A_n}{n} \\\\ &\\textbf{where:}\\\\ &A_n=\\text{the price of an asset at period } n\\\\ &n=\\text{the number of total periods}\\\\ \\end{aligned} \n",
    "​\t  \n",
    "SMA= \n",
    "n\n",
    "A \n",
    "1\n",
    "​\t +A \n",
    "2\n",
    "​\t +...+A \n",
    "n\n",
    "​\t \n",
    "​\t \n",
    "where:\n",
    "A \n",
    "n\n",
    "​\t =the price of an asset at period n\n",
    "n=the number of total periods\n",
    "​\t"
   ]
  },
  {
   "cell_type": "markdown",
   "metadata": {},
   "source": [
    "## Death Cross\n",
    "\n",
    "The death cross occurs when a short-term moving average (typically 50-day SMA) crosses over a major long-term moving average (typically 200-day SMA) to the downside and is interpreted by analysts and traders as signaling a definitive bear turn in a market.\n",
    "\n",
    "There is some variation of opinion as to precisely what constitutes this meaningful moving average crossover. Some analysts define it as a crossover of the 100-day moving average by the 30-day moving average; \n",
    "\n",
    "<img src='https://www.investopedia.com/thmb/LilaVqIIg0eWGiqKbj6Bf9pYcss=/1575x0/filters:no_upscale():max_bytes(150000):strip_icc():format(webp)/2018-12-14-DeathCross-5c13eaf0c9e77c00013499e4.png'/>\n",
    "\n",
    "<img src = 'https://www.investopedia.com/thmb/KhKdZE1gZ4PDIrUQHeKMiDLnB2E=/1576x0/filters:no_upscale():max_bytes(150000):strip_icc():format(webp)/2018-12-14-FBDeathCross-5c1400eb46e0fb0001418b74.png' />"
   ]
  },
  {
   "cell_type": "markdown",
   "metadata": {},
   "source": [
    "## Golden Cross\n",
    "\n",
    "What is a Golden Cross?\n",
    "\n",
    "The golden cross is a candlestick pattern that is a bullish signal in which a relatively short-term moving average crosses above a long-term moving average. The golden cross is a bullish breakout pattern formed from a crossover involving a security's short-term moving average (such as the 15-day moving average) breaking above its long-term moving average (such as the 50-day moving average) or resistance level. As long-term indicators carry more weight, the golden cross indicates a bull market on the horizon and is reinforced by high trading volumes.\n",
    "\n",
    "<img src='https://www.investopedia.com/thmb/NXwxIinKHx9FmoP52xsMkae6lbs=/1536x0/filters:no_upscale():max_bytes(150000):strip_icc():format(webp)/GoldenCross-5c6592b646e0fb0001a91e29.png' />\n",
    "\n",
    "## <b><u>Intra-day Traders </u></b>\n",
    "\n",
    "Day traders commonly use smaller time periods like the 5-period and 15-period moving averages to trade intra-day golden cross breakouts. The time interval of \n",
    "\n",
    "## Limitations of using a Golden Cross\n",
    "\n",
    "All indicators are “lagging,” and no indicator can truly predict the future. Many times, an observed golden cross produces a false signal, and a trader placing a long at that time could subsequently find himself in some near-term trouble. Despite its apparent predictive power in forecasting prior large bull markets, golden crosses also do regularly fail to manifest. Therefore, a golden cross should always be confirmed with other signals and indicators before putting on a trade. The key to using the golden cross correctly – with additional filters and indicators – is to always use proper risk parameters and ratios. Remembering to always keep to a favorable risk-to-reward ratio and to time your trade properly can lead to better results than just following the cross blindly.\n"
   ]
  },
  {
   "cell_type": "code",
   "execution_count": 2,
   "metadata": {},
   "outputs": [
    {
     "name": "stdout",
     "output_type": "stream",
     "text": [
      "into method doBasicOperation\n",
      " retrieving values configured in >>> /Users/493055/Desktop/dev/erai-v0.3/src/config/config.json\n",
      "before return statement of method doBasicOperation \n",
      "added INPUT FEATURES >>> 4 count >>> open-high-low-close\n",
      "added INPUT FEATURES >>> 4 count >>> dopen-dhigh-dlow-dclose\n"
     ]
    }
   ],
   "source": [
    "from dataPreparation import *\n",
    "\n",
    "from dataPreparation.platform import createPlatform, createFundamentalFeatures, createFundamentalPrevCurrDifferentBasedFeatures\n",
    "\n",
    "baseDf = createPlatform(dataName,dataFrequency)\n",
    "\n",
    "baseAttribsDf = createFundamentalFeatures(baseDf)\n",
    "\n",
    "baseAttribsDiffDf = createFundamentalPrevCurrDifferentBasedFeatures(baseDf)\n"
   ]
  },
  {
   "cell_type": "code",
   "execution_count": 3,
   "metadata": {
    "scrolled": false
   },
   "outputs": [
    {
     "name": "stdout",
     "output_type": "stream",
     "text": [
      " checking if folder existis >>>/Users/493055/Desktop/dev/erai-v0.3/data/crudeOilFeb/processed/5m/features\n",
      " checking if folder existis >>>/Users/493055/Desktop/dev/erai-v0.3/data/crudeOilFeb/processed/5m/features\n"
     ]
    },
    {
     "data": {
      "text/plain": [
       "'/Users/493055/Desktop/dev/erai-v0.3/data/crudeOilFeb/processed/5m/features/002_dopen_dclose_dhigh_dlow.csv'"
      ]
     },
     "execution_count": 3,
     "metadata": {},
     "output_type": "execute_result"
    }
   ],
   "source": [
    "from dataPreparation.platform import saveFeatureToDisk\n",
    "saveFeatureToDisk(dataName,dataFrequency,baseAttribsDf,'001_open_close_high_low')\n",
    "saveFeatureToDisk(dataName,dataFrequency,baseAttribsDf,'002_dopen_dclose_dhigh_dlow')"
   ]
  },
  {
   "cell_type": "code",
   "execution_count": 4,
   "metadata": {
    "scrolled": true
   },
   "outputs": [
    {
     "data": {
      "text/html": [
       "<div>\n",
       "<style scoped>\n",
       "    .dataframe tbody tr th:only-of-type {\n",
       "        vertical-align: middle;\n",
       "    }\n",
       "\n",
       "    .dataframe tbody tr th {\n",
       "        vertical-align: top;\n",
       "    }\n",
       "\n",
       "    .dataframe thead th {\n",
       "        text-align: right;\n",
       "    }\n",
       "</style>\n",
       "<table border=\"1\" class=\"dataframe\">\n",
       "  <thead>\n",
       "    <tr style=\"text-align: right;\">\n",
       "      <th></th>\n",
       "      <th>open</th>\n",
       "      <th>high</th>\n",
       "      <th>low</th>\n",
       "      <th>close</th>\n",
       "    </tr>\n",
       "  </thead>\n",
       "  <tbody>\n",
       "    <tr>\n",
       "      <td>6892</td>\n",
       "      <td>3629</td>\n",
       "      <td>3634</td>\n",
       "      <td>3629</td>\n",
       "      <td>3634</td>\n",
       "    </tr>\n",
       "    <tr>\n",
       "      <td>6893</td>\n",
       "      <td>3634</td>\n",
       "      <td>3637</td>\n",
       "      <td>3632</td>\n",
       "      <td>3636</td>\n",
       "    </tr>\n",
       "    <tr>\n",
       "      <td>6894</td>\n",
       "      <td>3636</td>\n",
       "      <td>3637</td>\n",
       "      <td>3621</td>\n",
       "      <td>3624</td>\n",
       "    </tr>\n",
       "    <tr>\n",
       "      <td>6895</td>\n",
       "      <td>3623</td>\n",
       "      <td>3626</td>\n",
       "      <td>3620</td>\n",
       "      <td>3623</td>\n",
       "    </tr>\n",
       "    <tr>\n",
       "      <td>6896</td>\n",
       "      <td>3622</td>\n",
       "      <td>3625</td>\n",
       "      <td>3620</td>\n",
       "      <td>3621</td>\n",
       "    </tr>\n",
       "  </tbody>\n",
       "</table>\n",
       "</div>"
      ],
      "text/plain": [
       "      open  high   low  close\n",
       "6892  3629  3634  3629   3634\n",
       "6893  3634  3637  3632   3636\n",
       "6894  3636  3637  3621   3624\n",
       "6895  3623  3626  3620   3623\n",
       "6896  3622  3625  3620   3621"
      ]
     },
     "execution_count": 4,
     "metadata": {},
     "output_type": "execute_result"
    }
   ],
   "source": [
    "baseAttribsDf.tail()"
   ]
  },
  {
   "cell_type": "code",
   "execution_count": 5,
   "metadata": {},
   "outputs": [
    {
     "data": {
      "text/html": [
       "<div>\n",
       "<style scoped>\n",
       "    .dataframe tbody tr th:only-of-type {\n",
       "        vertical-align: middle;\n",
       "    }\n",
       "\n",
       "    .dataframe tbody tr th {\n",
       "        vertical-align: top;\n",
       "    }\n",
       "\n",
       "    .dataframe thead th {\n",
       "        text-align: right;\n",
       "    }\n",
       "</style>\n",
       "<table border=\"1\" class=\"dataframe\">\n",
       "  <thead>\n",
       "    <tr style=\"text-align: right;\">\n",
       "      <th></th>\n",
       "      <th>dopen</th>\n",
       "      <th>dhigh</th>\n",
       "      <th>dlow</th>\n",
       "      <th>dclose</th>\n",
       "    </tr>\n",
       "  </thead>\n",
       "  <tbody>\n",
       "    <tr>\n",
       "      <td>6891</td>\n",
       "      <td>-7.0</td>\n",
       "      <td>-7.0</td>\n",
       "      <td>3.0</td>\n",
       "      <td>4.0</td>\n",
       "    </tr>\n",
       "    <tr>\n",
       "      <td>6892</td>\n",
       "      <td>5.0</td>\n",
       "      <td>3.0</td>\n",
       "      <td>3.0</td>\n",
       "      <td>2.0</td>\n",
       "    </tr>\n",
       "    <tr>\n",
       "      <td>6893</td>\n",
       "      <td>2.0</td>\n",
       "      <td>0.0</td>\n",
       "      <td>-11.0</td>\n",
       "      <td>-12.0</td>\n",
       "    </tr>\n",
       "    <tr>\n",
       "      <td>6894</td>\n",
       "      <td>-13.0</td>\n",
       "      <td>-11.0</td>\n",
       "      <td>-1.0</td>\n",
       "      <td>-1.0</td>\n",
       "    </tr>\n",
       "    <tr>\n",
       "      <td>6895</td>\n",
       "      <td>-1.0</td>\n",
       "      <td>-1.0</td>\n",
       "      <td>0.0</td>\n",
       "      <td>-2.0</td>\n",
       "    </tr>\n",
       "  </tbody>\n",
       "</table>\n",
       "</div>"
      ],
      "text/plain": [
       "      dopen  dhigh  dlow  dclose\n",
       "6891   -7.0   -7.0   3.0     4.0\n",
       "6892    5.0    3.0   3.0     2.0\n",
       "6893    2.0    0.0 -11.0   -12.0\n",
       "6894  -13.0  -11.0  -1.0    -1.0\n",
       "6895   -1.0   -1.0   0.0    -2.0"
      ]
     },
     "execution_count": 5,
     "metadata": {},
     "output_type": "execute_result"
    }
   ],
   "source": [
    "baseAttribsDiffDf.tail()"
   ]
  },
  {
   "cell_type": "code",
   "execution_count": 6,
   "metadata": {
    "scrolled": true
   },
   "outputs": [
    {
     "name": "stdout",
     "output_type": "stream",
     "text": [
      " checking if folder existis >>>/Users/493055/Desktop/dev/erai-v0.3/data/crudeOilFeb/processed/5m/features\n"
     ]
    },
    {
     "data": {
      "text/html": [
       "<div>\n",
       "<style scoped>\n",
       "    .dataframe tbody tr th:only-of-type {\n",
       "        vertical-align: middle;\n",
       "    }\n",
       "\n",
       "    .dataframe tbody tr th {\n",
       "        vertical-align: top;\n",
       "    }\n",
       "\n",
       "    .dataframe thead th {\n",
       "        text-align: right;\n",
       "    }\n",
       "</style>\n",
       "<table border=\"1\" class=\"dataframe\">\n",
       "  <thead>\n",
       "    <tr style=\"text-align: right;\">\n",
       "      <th></th>\n",
       "      <th>SMA_3</th>\n",
       "      <th>SMA_5</th>\n",
       "      <th>SMA_8</th>\n",
       "      <th>SMA_10</th>\n",
       "      <th>SMA_12</th>\n",
       "      <th>SMA_13</th>\n",
       "      <th>SMA_15</th>\n",
       "      <th>SMA_20</th>\n",
       "      <th>SMA_26</th>\n",
       "      <th>SMA_30</th>\n",
       "      <th>...</th>\n",
       "      <th>SMA_100</th>\n",
       "      <th>SMA_110</th>\n",
       "      <th>SMA_120</th>\n",
       "      <th>SMA_130</th>\n",
       "      <th>SMA_140</th>\n",
       "      <th>SMA_150</th>\n",
       "      <th>SMA_160</th>\n",
       "      <th>SMA_170</th>\n",
       "      <th>SMA_180</th>\n",
       "      <th>SMA_190</th>\n",
       "    </tr>\n",
       "  </thead>\n",
       "  <tbody>\n",
       "    <tr>\n",
       "      <td>0</td>\n",
       "      <td>0.000000</td>\n",
       "      <td>0.0</td>\n",
       "      <td>0.000</td>\n",
       "      <td>0.0</td>\n",
       "      <td>0.000000</td>\n",
       "      <td>0.000000</td>\n",
       "      <td>0.000000</td>\n",
       "      <td>0.00</td>\n",
       "      <td>0.000000</td>\n",
       "      <td>0.000000</td>\n",
       "      <td>...</td>\n",
       "      <td>0.00</td>\n",
       "      <td>0.000000</td>\n",
       "      <td>0.000000</td>\n",
       "      <td>0.000000</td>\n",
       "      <td>0.000000</td>\n",
       "      <td>0.000000</td>\n",
       "      <td>0.00000</td>\n",
       "      <td>0.000000</td>\n",
       "      <td>0.000000</td>\n",
       "      <td>0.000000</td>\n",
       "    </tr>\n",
       "    <tr>\n",
       "      <td>1</td>\n",
       "      <td>1262.666667</td>\n",
       "      <td>757.6</td>\n",
       "      <td>473.500</td>\n",
       "      <td>378.8</td>\n",
       "      <td>315.666667</td>\n",
       "      <td>291.384615</td>\n",
       "      <td>252.533333</td>\n",
       "      <td>189.40</td>\n",
       "      <td>145.692308</td>\n",
       "      <td>126.266667</td>\n",
       "      <td>...</td>\n",
       "      <td>37.88</td>\n",
       "      <td>34.436364</td>\n",
       "      <td>31.566667</td>\n",
       "      <td>29.138462</td>\n",
       "      <td>27.057143</td>\n",
       "      <td>25.253333</td>\n",
       "      <td>23.67500</td>\n",
       "      <td>22.282353</td>\n",
       "      <td>21.044444</td>\n",
       "      <td>19.936842</td>\n",
       "    </tr>\n",
       "    <tr>\n",
       "      <td>2</td>\n",
       "      <td>2525.000000</td>\n",
       "      <td>1515.0</td>\n",
       "      <td>946.875</td>\n",
       "      <td>757.5</td>\n",
       "      <td>631.250000</td>\n",
       "      <td>582.692308</td>\n",
       "      <td>505.000000</td>\n",
       "      <td>378.75</td>\n",
       "      <td>291.346154</td>\n",
       "      <td>252.500000</td>\n",
       "      <td>...</td>\n",
       "      <td>75.75</td>\n",
       "      <td>68.863636</td>\n",
       "      <td>63.125000</td>\n",
       "      <td>58.269231</td>\n",
       "      <td>54.107143</td>\n",
       "      <td>50.500000</td>\n",
       "      <td>47.34375</td>\n",
       "      <td>44.558824</td>\n",
       "      <td>42.083333</td>\n",
       "      <td>39.868421</td>\n",
       "    </tr>\n",
       "    <tr>\n",
       "      <td>3</td>\n",
       "      <td>3788.333333</td>\n",
       "      <td>2273.0</td>\n",
       "      <td>1420.625</td>\n",
       "      <td>1136.5</td>\n",
       "      <td>947.083333</td>\n",
       "      <td>874.230769</td>\n",
       "      <td>757.666667</td>\n",
       "      <td>568.25</td>\n",
       "      <td>437.115385</td>\n",
       "      <td>378.833333</td>\n",
       "      <td>...</td>\n",
       "      <td>113.65</td>\n",
       "      <td>103.318182</td>\n",
       "      <td>94.708333</td>\n",
       "      <td>87.423077</td>\n",
       "      <td>81.178571</td>\n",
       "      <td>75.766667</td>\n",
       "      <td>71.03125</td>\n",
       "      <td>66.852941</td>\n",
       "      <td>63.138889</td>\n",
       "      <td>59.815789</td>\n",
       "    </tr>\n",
       "    <tr>\n",
       "      <td>4</td>\n",
       "      <td>3789.666667</td>\n",
       "      <td>3031.4</td>\n",
       "      <td>1894.625</td>\n",
       "      <td>1515.7</td>\n",
       "      <td>1263.083333</td>\n",
       "      <td>1165.923077</td>\n",
       "      <td>1010.466667</td>\n",
       "      <td>757.85</td>\n",
       "      <td>582.961538</td>\n",
       "      <td>505.233333</td>\n",
       "      <td>...</td>\n",
       "      <td>151.57</td>\n",
       "      <td>137.790909</td>\n",
       "      <td>126.308333</td>\n",
       "      <td>116.592308</td>\n",
       "      <td>108.264286</td>\n",
       "      <td>101.046667</td>\n",
       "      <td>94.73125</td>\n",
       "      <td>89.158824</td>\n",
       "      <td>84.205556</td>\n",
       "      <td>79.773684</td>\n",
       "    </tr>\n",
       "  </tbody>\n",
       "</table>\n",
       "<p>5 rows × 28 columns</p>\n",
       "</div>"
      ],
      "text/plain": [
       "         SMA_3   SMA_5     SMA_8  SMA_10       SMA_12       SMA_13  \\\n",
       "0     0.000000     0.0     0.000     0.0     0.000000     0.000000   \n",
       "1  1262.666667   757.6   473.500   378.8   315.666667   291.384615   \n",
       "2  2525.000000  1515.0   946.875   757.5   631.250000   582.692308   \n",
       "3  3788.333333  2273.0  1420.625  1136.5   947.083333   874.230769   \n",
       "4  3789.666667  3031.4  1894.625  1515.7  1263.083333  1165.923077   \n",
       "\n",
       "        SMA_15  SMA_20      SMA_26      SMA_30  ...  SMA_100     SMA_110  \\\n",
       "0     0.000000    0.00    0.000000    0.000000  ...     0.00    0.000000   \n",
       "1   252.533333  189.40  145.692308  126.266667  ...    37.88   34.436364   \n",
       "2   505.000000  378.75  291.346154  252.500000  ...    75.75   68.863636   \n",
       "3   757.666667  568.25  437.115385  378.833333  ...   113.65  103.318182   \n",
       "4  1010.466667  757.85  582.961538  505.233333  ...   151.57  137.790909   \n",
       "\n",
       "      SMA_120     SMA_130     SMA_140     SMA_150   SMA_160    SMA_170  \\\n",
       "0    0.000000    0.000000    0.000000    0.000000   0.00000   0.000000   \n",
       "1   31.566667   29.138462   27.057143   25.253333  23.67500  22.282353   \n",
       "2   63.125000   58.269231   54.107143   50.500000  47.34375  44.558824   \n",
       "3   94.708333   87.423077   81.178571   75.766667  71.03125  66.852941   \n",
       "4  126.308333  116.592308  108.264286  101.046667  94.73125  89.158824   \n",
       "\n",
       "     SMA_180    SMA_190  \n",
       "0   0.000000   0.000000  \n",
       "1  21.044444  19.936842  \n",
       "2  42.083333  39.868421  \n",
       "3  63.138889  59.815789  \n",
       "4  84.205556  79.773684  \n",
       "\n",
       "[5 rows x 28 columns]"
      ]
     },
     "execution_count": 6,
     "metadata": {},
     "output_type": "execute_result"
    }
   ],
   "source": [
    "from dataPreparation.dataAnalyticFeatures import getSimpleMovingAverageFeatures\n",
    "from dataPreparation.platform import saveFeatureToDisk\n",
    "\n",
    "smaRangeDf=getSimpleMovingAverageFeatures(baseAttribsDf)\n",
    "saveFeatureToDisk(dataName,dataFrequency,smaRangeDf,'003_simple_moving_average')\n",
    "smaRangeDf.head()"
   ]
  },
  {
   "cell_type": "code",
   "execution_count": null,
   "metadata": {
    "scrolled": true
   },
   "outputs": [],
   "source": []
  },
  {
   "cell_type": "code",
   "execution_count": null,
   "metadata": {},
   "outputs": [],
   "source": []
  },
  {
   "cell_type": "code",
   "execution_count": null,
   "metadata": {
    "scrolled": true
   },
   "outputs": [],
   "source": []
  },
  {
   "cell_type": "code",
   "execution_count": null,
   "metadata": {
    "scrolled": true
   },
   "outputs": [],
   "source": []
  },
  {
   "cell_type": "code",
   "execution_count": null,
   "metadata": {},
   "outputs": [],
   "source": []
  },
  {
   "cell_type": "code",
   "execution_count": null,
   "metadata": {},
   "outputs": [],
   "source": []
  }
 ],
 "metadata": {
  "kernelspec": {
   "display_name": "Python 3",
   "language": "python",
   "name": "python3"
  },
  "language_info": {
   "codemirror_mode": {
    "name": "ipython",
    "version": 3
   },
   "file_extension": ".py",
   "mimetype": "text/x-python",
   "name": "python",
   "nbconvert_exporter": "python",
   "pygments_lexer": "ipython3",
   "version": "3.7.4"
  }
 },
 "nbformat": 4,
 "nbformat_minor": 2
}
