{
 "cells": [
  {
   "cell_type": "code",
   "execution_count": 1,
   "metadata": {},
   "outputs": [
    {
     "name": "stdout",
     "output_type": "stream",
     "text": [
      "module_path >>> /Users/493055/Desktop/dev/erai-v0.3/src <<< appended to sys path - Mandatory for the pythons files in src folder to be recognized\n"
     ]
    }
   ],
   "source": [
    "dataName = 'crudeOilFeb'\n",
    "dataFrequency='5m'\n",
    "\n",
    "import os\n",
    "import sys  \n",
    "module_path = os.path.abspath('../../'+os.path.join('.'))\n",
    "\n",
    "sys.path.append(module_path)\n",
    "\n",
    "print(\"module_path >>> \" + module_path + \" <<< appended to sys path - Mandatory for the pythons files in src folder to be recognized\")\n",
    "\n"
   ]
  },
  {
   "cell_type": "code",
   "execution_count": 2,
   "metadata": {
    "scrolled": true
   },
   "outputs": [
    {
     "name": "stdout",
     "output_type": "stream",
     "text": [
      "into method doBasicOperation\n",
      " retrieving values configured in >>> /Users/493055/Desktop/dev/erai-v0.3/src/config/config.json\n",
      "before return statement of method doBasicOperation \n",
      "added INPUT FEATURES >>> 4 count >>> open-high-low-close\n"
     ]
    }
   ],
   "source": [
    "from dataPreparation import *\n",
    "\n",
    "from dataPreparation.platform import createPlatform, createFundamentalFeatures, createFundamentalPrevCurrDifferentBasedFeatures\n",
    "\n",
    "baseDf = createPlatform(dataName,dataFrequency)\n",
    "\n",
    "baseInputDf = createFundamentalFeatures(baseDf)  # data with open close high low\n"
   ]
  },
  {
   "cell_type": "code",
   "execution_count": 3,
   "metadata": {
    "scrolled": false
   },
   "outputs": [
    {
     "data": {
      "text/html": [
       "<div>\n",
       "<style scoped>\n",
       "    .dataframe tbody tr th:only-of-type {\n",
       "        vertical-align: middle;\n",
       "    }\n",
       "\n",
       "    .dataframe tbody tr th {\n",
       "        vertical-align: top;\n",
       "    }\n",
       "\n",
       "    .dataframe thead th {\n",
       "        text-align: right;\n",
       "    }\n",
       "</style>\n",
       "<table border=\"1\" class=\"dataframe\">\n",
       "  <thead>\n",
       "    <tr style=\"text-align: right;\">\n",
       "      <th></th>\n",
       "      <th>open</th>\n",
       "      <th>high</th>\n",
       "      <th>low</th>\n",
       "      <th>close</th>\n",
       "    </tr>\n",
       "  </thead>\n",
       "  <tbody>\n",
       "    <tr>\n",
       "      <td>6892</td>\n",
       "      <td>3629</td>\n",
       "      <td>3634</td>\n",
       "      <td>3629</td>\n",
       "      <td>3634</td>\n",
       "    </tr>\n",
       "    <tr>\n",
       "      <td>6893</td>\n",
       "      <td>3634</td>\n",
       "      <td>3637</td>\n",
       "      <td>3632</td>\n",
       "      <td>3636</td>\n",
       "    </tr>\n",
       "    <tr>\n",
       "      <td>6894</td>\n",
       "      <td>3636</td>\n",
       "      <td>3637</td>\n",
       "      <td>3621</td>\n",
       "      <td>3624</td>\n",
       "    </tr>\n",
       "    <tr>\n",
       "      <td>6895</td>\n",
       "      <td>3623</td>\n",
       "      <td>3626</td>\n",
       "      <td>3620</td>\n",
       "      <td>3623</td>\n",
       "    </tr>\n",
       "    <tr>\n",
       "      <td>6896</td>\n",
       "      <td>3622</td>\n",
       "      <td>3625</td>\n",
       "      <td>3620</td>\n",
       "      <td>3621</td>\n",
       "    </tr>\n",
       "  </tbody>\n",
       "</table>\n",
       "</div>"
      ],
      "text/plain": [
       "      open  high   low  close\n",
       "6892  3629  3634  3629   3634\n",
       "6893  3634  3637  3632   3636\n",
       "6894  3636  3637  3621   3624\n",
       "6895  3623  3626  3620   3623\n",
       "6896  3622  3625  3620   3621"
      ]
     },
     "execution_count": 3,
     "metadata": {},
     "output_type": "execute_result"
    }
   ],
   "source": [
    "baseInputDf.tail()"
   ]
  },
  {
   "cell_type": "code",
   "execution_count": 4,
   "metadata": {
    "scrolled": true
   },
   "outputs": [],
   "source": [
    "dataDf = baseInputDf"
   ]
  },
  {
   "cell_type": "code",
   "execution_count": null,
   "metadata": {
    "scrolled": false
   },
   "outputs": [],
   "source": []
  },
  {
   "cell_type": "code",
   "execution_count": 5,
   "metadata": {
    "scrolled": true
   },
   "outputs": [
    {
     "name": "stdout",
     "output_type": "stream",
     "text": [
      " checking if folder existis >>>/Users/493055/Desktop/dev/erai-v0.3/data/crudeOilFeb/processed/5m/features\n"
     ]
    },
    {
     "data": {
      "text/html": [
       "<div>\n",
       "<style scoped>\n",
       "    .dataframe tbody tr th:only-of-type {\n",
       "        vertical-align: middle;\n",
       "    }\n",
       "\n",
       "    .dataframe tbody tr th {\n",
       "        vertical-align: top;\n",
       "    }\n",
       "\n",
       "    .dataframe thead th {\n",
       "        text-align: right;\n",
       "    }\n",
       "</style>\n",
       "<table border=\"1\" class=\"dataframe\">\n",
       "  <thead>\n",
       "    <tr style=\"text-align: right;\">\n",
       "      <th></th>\n",
       "      <th>ema_3</th>\n",
       "      <th>ema_5</th>\n",
       "      <th>ema_8</th>\n",
       "      <th>ema_10</th>\n",
       "      <th>ema_12</th>\n",
       "      <th>ema_13</th>\n",
       "      <th>ema_15</th>\n",
       "      <th>ema_20</th>\n",
       "      <th>ema_26</th>\n",
       "      <th>ema_30</th>\n",
       "      <th>...</th>\n",
       "      <th>ema_110</th>\n",
       "      <th>ema_120</th>\n",
       "      <th>ema_130</th>\n",
       "      <th>ema_140</th>\n",
       "      <th>ema_150</th>\n",
       "      <th>ema_160</th>\n",
       "      <th>ema_170</th>\n",
       "      <th>ema_180</th>\n",
       "      <th>ema_190</th>\n",
       "      <th>ema_200</th>\n",
       "    </tr>\n",
       "  </thead>\n",
       "  <tbody>\n",
       "    <tr>\n",
       "      <td>0</td>\n",
       "      <td>NaN</td>\n",
       "      <td>NaN</td>\n",
       "      <td>NaN</td>\n",
       "      <td>NaN</td>\n",
       "      <td>NaN</td>\n",
       "      <td>NaN</td>\n",
       "      <td>NaN</td>\n",
       "      <td>NaN</td>\n",
       "      <td>NaN</td>\n",
       "      <td>NaN</td>\n",
       "      <td>...</td>\n",
       "      <td>NaN</td>\n",
       "      <td>NaN</td>\n",
       "      <td>NaN</td>\n",
       "      <td>NaN</td>\n",
       "      <td>NaN</td>\n",
       "      <td>NaN</td>\n",
       "      <td>NaN</td>\n",
       "      <td>NaN</td>\n",
       "      <td>NaN</td>\n",
       "      <td>NaN</td>\n",
       "    </tr>\n",
       "    <tr>\n",
       "      <td>1</td>\n",
       "      <td>2840.50</td>\n",
       "      <td>2104.111111</td>\n",
       "      <td>1496.271605</td>\n",
       "      <td>1252.049587</td>\n",
       "      <td>1075.727811</td>\n",
       "      <td>1004.836735</td>\n",
       "      <td>887.687500</td>\n",
       "      <td>687.070295</td>\n",
       "      <td>540.326475</td>\n",
       "      <td>472.942768</td>\n",
       "      <td>...</td>\n",
       "      <td>135.256716</td>\n",
       "      <td>124.171710</td>\n",
       "      <td>114.765923</td>\n",
       "      <td>106.684674</td>\n",
       "      <td>99.666594</td>\n",
       "      <td>93.514834</td>\n",
       "      <td>88.078315</td>\n",
       "      <td>83.239156</td>\n",
       "      <td>78.904032</td>\n",
       "      <td>74.998094</td>\n",
       "    </tr>\n",
       "    <tr>\n",
       "      <td>2</td>\n",
       "      <td>2841.75</td>\n",
       "      <td>2104.888889</td>\n",
       "      <td>1496.765432</td>\n",
       "      <td>1252.446281</td>\n",
       "      <td>1076.059172</td>\n",
       "      <td>1005.142857</td>\n",
       "      <td>887.953125</td>\n",
       "      <td>687.269841</td>\n",
       "      <td>540.480110</td>\n",
       "      <td>473.075963</td>\n",
       "      <td>...</td>\n",
       "      <td>135.293077</td>\n",
       "      <td>124.205041</td>\n",
       "      <td>114.796690</td>\n",
       "      <td>106.713244</td>\n",
       "      <td>99.693259</td>\n",
       "      <td>93.539833</td>\n",
       "      <td>88.101843</td>\n",
       "      <td>83.261378</td>\n",
       "      <td>78.925084</td>\n",
       "      <td>75.018094</td>\n",
       "    </tr>\n",
       "    <tr>\n",
       "      <td>3</td>\n",
       "      <td>2843.50</td>\n",
       "      <td>2106.222222</td>\n",
       "      <td>1497.728395</td>\n",
       "      <td>1253.256198</td>\n",
       "      <td>1076.757396</td>\n",
       "      <td>1005.795918</td>\n",
       "      <td>888.531250</td>\n",
       "      <td>687.718821</td>\n",
       "      <td>540.834019</td>\n",
       "      <td>473.386056</td>\n",
       "      <td>...</td>\n",
       "      <td>135.382193</td>\n",
       "      <td>124.286866</td>\n",
       "      <td>114.872327</td>\n",
       "      <td>106.783562</td>\n",
       "      <td>99.758958</td>\n",
       "      <td>93.601481</td>\n",
       "      <td>88.159912</td>\n",
       "      <td>83.316260</td>\n",
       "      <td>78.977111</td>\n",
       "      <td>75.067548</td>\n",
       "    </tr>\n",
       "    <tr>\n",
       "      <td>4</td>\n",
       "      <td>2844.00</td>\n",
       "      <td>2106.666667</td>\n",
       "      <td>1498.074074</td>\n",
       "      <td>1253.553719</td>\n",
       "      <td>1077.017751</td>\n",
       "      <td>1006.040816</td>\n",
       "      <td>888.750000</td>\n",
       "      <td>687.891156</td>\n",
       "      <td>540.971193</td>\n",
       "      <td>473.506764</td>\n",
       "      <td>...</td>\n",
       "      <td>135.417580</td>\n",
       "      <td>124.319377</td>\n",
       "      <td>114.902395</td>\n",
       "      <td>106.811529</td>\n",
       "      <td>99.785097</td>\n",
       "      <td>93.626018</td>\n",
       "      <td>88.183031</td>\n",
       "      <td>83.338115</td>\n",
       "      <td>78.997834</td>\n",
       "      <td>75.087250</td>\n",
       "    </tr>\n",
       "  </tbody>\n",
       "</table>\n",
       "<p>5 rows × 29 columns</p>\n",
       "</div>"
      ],
      "text/plain": [
       "     ema_3        ema_5        ema_8       ema_10       ema_12       ema_13  \\\n",
       "0      NaN          NaN          NaN          NaN          NaN          NaN   \n",
       "1  2840.50  2104.111111  1496.271605  1252.049587  1075.727811  1004.836735   \n",
       "2  2841.75  2104.888889  1496.765432  1252.446281  1076.059172  1005.142857   \n",
       "3  2843.50  2106.222222  1497.728395  1253.256198  1076.757396  1005.795918   \n",
       "4  2844.00  2106.666667  1498.074074  1253.553719  1077.017751  1006.040816   \n",
       "\n",
       "       ema_15      ema_20      ema_26      ema_30  ...     ema_110  \\\n",
       "0         NaN         NaN         NaN         NaN  ...         NaN   \n",
       "1  887.687500  687.070295  540.326475  472.942768  ...  135.256716   \n",
       "2  887.953125  687.269841  540.480110  473.075963  ...  135.293077   \n",
       "3  888.531250  687.718821  540.834019  473.386056  ...  135.382193   \n",
       "4  888.750000  687.891156  540.971193  473.506764  ...  135.417580   \n",
       "\n",
       "      ema_120     ema_130     ema_140    ema_150    ema_160    ema_170  \\\n",
       "0         NaN         NaN         NaN        NaN        NaN        NaN   \n",
       "1  124.171710  114.765923  106.684674  99.666594  93.514834  88.078315   \n",
       "2  124.205041  114.796690  106.713244  99.693259  93.539833  88.101843   \n",
       "3  124.286866  114.872327  106.783562  99.758958  93.601481  88.159912   \n",
       "4  124.319377  114.902395  106.811529  99.785097  93.626018  88.183031   \n",
       "\n",
       "     ema_180    ema_190    ema_200  \n",
       "0        NaN        NaN        NaN  \n",
       "1  83.239156  78.904032  74.998094  \n",
       "2  83.261378  78.925084  75.018094  \n",
       "3  83.316260  78.977111  75.067548  \n",
       "4  83.338115  78.997834  75.087250  \n",
       "\n",
       "[5 rows x 29 columns]"
      ]
     },
     "execution_count": 5,
     "metadata": {},
     "output_type": "execute_result"
    }
   ],
   "source": [
    "from dataPreparation.dataAnalyticFeatures import getExponentialMovingAverageFeatures\n",
    "from dataPreparation.platform import saveFeatureToDisk\n",
    "\n",
    "emaDf=getExponentialMovingAverageFeatures(baseInputDf)\n",
    "saveFeatureToDisk(dataName,dataFrequency,emaDf,'004_exponential_moving_average')\n",
    "emaDf.head()"
   ]
  },
  {
   "cell_type": "code",
   "execution_count": null,
   "metadata": {
    "scrolled": true
   },
   "outputs": [],
   "source": []
  },
  {
   "cell_type": "code",
   "execution_count": null,
   "metadata": {},
   "outputs": [],
   "source": []
  },
  {
   "cell_type": "code",
   "execution_count": null,
   "metadata": {
    "scrolled": true
   },
   "outputs": [],
   "source": []
  },
  {
   "cell_type": "code",
   "execution_count": null,
   "metadata": {
    "scrolled": true
   },
   "outputs": [],
   "source": []
  },
  {
   "cell_type": "code",
   "execution_count": null,
   "metadata": {},
   "outputs": [],
   "source": []
  },
  {
   "cell_type": "code",
   "execution_count": null,
   "metadata": {},
   "outputs": [],
   "source": []
  },
  {
   "cell_type": "code",
   "execution_count": null,
   "metadata": {},
   "outputs": [],
   "source": []
  }
 ],
 "metadata": {
  "kernelspec": {
   "display_name": "Python 3",
   "language": "python",
   "name": "python3"
  },
  "language_info": {
   "codemirror_mode": {
    "name": "ipython",
    "version": 3
   },
   "file_extension": ".py",
   "mimetype": "text/x-python",
   "name": "python",
   "nbconvert_exporter": "python",
   "pygments_lexer": "ipython3",
   "version": "3.7.4"
  }
 },
 "nbformat": 4,
 "nbformat_minor": 2
}
